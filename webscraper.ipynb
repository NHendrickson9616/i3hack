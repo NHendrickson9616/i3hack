{
 "cells": [
  {
   "cell_type": "code",
   "execution_count": 2,
   "id": "19c42d19-feff-4c6a-bc23-b219e36582b3",
   "metadata": {},
   "outputs": [],
   "source": [
    "from bs4 import BeautifulSoup\n",
    "import requests\n",
    "import pandas as pd"
   ]
  },
  {
   "cell_type": "code",
   "execution_count": 3,
   "id": "6f2379b0-b3e8-4813-a430-bf1ecdd7dd2a",
   "metadata": {},
   "outputs": [],
   "source": [
    "def scrape_internships(url): \n",
    "    response = requests.get(url) \n",
    "    soup = BeautifulSoup(response.text, 'html.parser') \n",
    "# Example: Extract internship names \n",
    "    internships = soup.find_all('tag_name', class_='class_name') \n",
    "    names = [internship.get_text() for internship in internships] \n",
    "# Continue extracting other details similarly... \n",
    "    return names \n",
    "    # Return a list of names or a more complex data structure with all the info"
   ]
  },
  {
   "cell_type": "code",
   "execution_count": 4,
   "id": "b4f984ed-5273-496f-bc54-07abf1cb13b5",
   "metadata": {},
   "outputs": [],
   "source": [
    "response = requests.get(\"https://www.linkedin.com/jobs/search/?currentJobId=3814999548&keywords=tech%20internships&origin=BLENDED_SEARCH_RESULT_NAVIGATION_SEE_ALL\")"
   ]
  },
  {
   "cell_type": "code",
   "execution_count": 5,
   "id": "7e699932-3ef7-4586-be85-aafec1b528cc",
   "metadata": {},
   "outputs": [],
   "source": [
    "soup = BeautifulSoup(response.text, 'html.parser')"
   ]
  },
  {
   "cell_type": "code",
   "execution_count": 11,
   "id": "3ba9a06f-8dda-42d4-80f7-945f5a8e8f3b",
   "metadata": {},
   "outputs": [
    {
     "name": "stdout",
     "output_type": "stream",
     "text": [
      "<class 'bs4.BeautifulSoup'>\n"
     ]
    }
   ],
   "source": [
    "print(type(soup))"
   ]
  },
  {
   "cell_type": "code",
   "execution_count": null,
   "id": "6e74bb5e-9fb8-4a20-b6c1-aa8bdd16ab53",
   "metadata": {},
   "outputs": [],
   "source": [
    "from transformers import MarkupLMProcessor\n",
    "\n",
    "processor = MarkupLMProcessor.from_pretrained(\"microsoft/markuplm-base\")\n",
    "\n",
    "html_string  = \n",
    "\n",
    "# note that you can also add provide all tokenizer parameters here such as padding, truncation\n",
    "encoding = processor(html_string, return_tensors=\"pt\")\n",
    "print(encoding.keys())"
   ]
  },
  {
   "cell_type": "code",
   "execution_count": null,
   "id": "6041aa85-5787-4297-9a5d-47793add40ec",
   "metadata": {},
   "outputs": [],
   "source": [
    "df.to_csv('internships_data.csv', index=False)"
   ]
  },
  {
   "cell_type": "code",
   "execution_count": null,
   "id": "aa3780df-7138-4eed-9b11-64a2d8e2515f",
   "metadata": {},
   "outputs": [],
   "source": [
    "print(\"cheese\")"
   ]
  }
 ],
 "metadata": {
  "kernelspec": {
   "display_name": "Python 3 (ipykernel)",
   "language": "python",
   "name": "python3"
  },
  "language_info": {
   "codemirror_mode": {
    "name": "ipython",
    "version": 3
   },
   "file_extension": ".py",
   "mimetype": "text/x-python",
   "name": "python",
   "nbconvert_exporter": "python",
   "pygments_lexer": "ipython3",
   "version": "3.11.7"
  }
 },
 "nbformat": 4,
 "nbformat_minor": 5
}
